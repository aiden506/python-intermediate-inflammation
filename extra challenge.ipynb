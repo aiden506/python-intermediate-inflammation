{
 "cells": [
  {
   "cell_type": "code",
   "execution_count": null,
   "id": "810eb088-691a-432f-ba99-bd1dfd858730",
   "metadata": {},
   "outputs": [],
   "source": [
    "filename=\"data/small-01.csv\""
   ]
  },
  {
   "cell_type": "code",
   "execution_count": null,
   "id": "1068720a-6b18-4f99-9b86-8d5be56ec0ea",
   "metadata": {},
   "outputs": [],
   "source": [
    "from inflammation import models, views\n",
    "inflammation_data = models.load_csv(filename)\n",
    "view_data = {'average': models.daily_mean(inflammation_data), 'max': models.daily_max(inflammation_data), 'min': models.daily_min(inflammation_data)}\n",
    "views.visualize(view_data)"
   ]
  },
  {
   "cell_type": "code",
   "execution_count": null,
   "id": "9f002045-1dbe-4def-a494-7c8a40c33822",
   "metadata": {},
   "outputs": [],
   "source": []
  },
  {
   "cell_type": "code",
   "execution_count": null,
   "id": "75146ba7-7723-4a76-b1ab-7ec3faae8370",
   "metadata": {},
   "outputs": [],
   "source": []
  }
 ],
 "metadata": {
  "kernelspec": {
   "display_name": "Python 3 (ipykernel)",
   "language": "python",
   "name": "python3"
  },
  "language_info": {
   "codemirror_mode": {
    "name": "ipython",
    "version": 3
   },
   "file_extension": ".py",
   "mimetype": "text/x-python",
   "name": "python",
   "nbconvert_exporter": "python",
   "pygments_lexer": "ipython3",
   "version": "3.10.14"
  }
 },
 "nbformat": 4,
 "nbformat_minor": 5
}
